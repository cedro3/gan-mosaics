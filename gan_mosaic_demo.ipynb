{
  "nbformat": 4,
  "nbformat_minor": 0,
  "metadata": {
    "accelerator": "GPU",
    "colab": {
      "name": "gan_mosaic_demo",
      "provenance": [],
      "collapsed_sections": [],
      "toc_visible": true,
      "include_colab_link": true
    },
    "kernelspec": {
      "display_name": "Python 3",
      "name": "python3"
    }
  },
  "cells": [
    {
      "cell_type": "markdown",
      "metadata": {
        "id": "view-in-github",
        "colab_type": "text"
      },
      "source": [
        "<a href=\"https://colab.research.google.com/github/cedro3/gan-mosaics/blob/master/gan_mosaic_demo.ipynb\" target=\"_parent\"><img src=\"https://colab.research.google.com/assets/colab-badge.svg\" alt=\"Open In Colab\"/></a>"
      ]
    },
    {
      "cell_type": "markdown",
      "metadata": {
        "id": "s7Dm20nzP4tN"
      },
      "source": [
        "# セットアップ"
      ]
    },
    {
      "cell_type": "code",
      "metadata": {
        "id": "HLz5LuY5PRDN"
      },
      "source": [
        "%tensorflow_version 1.x\n",
        "import tensorflow as tf\n",
        "import gdown\n",
        "\n",
        "# 学習済み重みのダウンロード\n",
        "!gdown https://drive.google.com/uc?id=1JX5gS6HZHAr31jPIgmb8vQJC4jC5VyLe\n",
        "\n",
        "# githubからコードをコピー\n",
        "!git clone https://github.com/cedro3/gan-mosaics.git\n",
        "%cd gan-mosaics\n",
        "\n",
        "# 関数定義と TensorFlow plugin のセッティング\n",
        "from mosaic import Mosaic\n",
        "model = Mosaic('../model.pkl')"
      ],
      "execution_count": null,
      "outputs": []
    },
    {
      "cell_type": "markdown",
      "metadata": {
        "id": "MhriMS755J-m"
      },
      "source": [
        "# マニュアル操作\n",
        "シードを自分で設定します"
      ]
    },
    {
      "cell_type": "code",
      "metadata": {
        "id": "g8oP7JNn5RUR"
      },
      "source": [
        "# 1枚画像生成\n",
        "seed = [425]\n",
        "model.generate_manual(seed)"
      ],
      "execution_count": null,
      "outputs": []
    },
    {
      "cell_type": "code",
      "metadata": {
        "id": "mgbXLN_O6KWN"
      },
      "source": [
        "# 9枚指定し、3×3で画像生成  \n",
        "seeds = [2, 8, 18, 35, 51, 75, 36, 77, 78]\n",
        "model.generate_grid_manual(seeds)"
      ],
      "execution_count": null,
      "outputs": []
    },
    {
      "cell_type": "code",
      "metadata": {
        "id": "sLI9VvnPFJf4"
      },
      "source": [
        "# 指定した画像を生成しトランジション\n",
        "seeds = [2, 34, 18, 60, 8, 58, 51, 35, 64, 77, 78, 79]\n",
        "model.generate_animation_manual(seeds, steps = 20)"
      ],
      "execution_count": null,
      "outputs": []
    },
    {
      "cell_type": "markdown",
      "metadata": {
        "id": "UY5O-ey35A59"
      },
      "source": [
        "# オート操作\n",
        "シードの設定は、Colabが自動的に行います"
      ]
    },
    {
      "cell_type": "code",
      "metadata": {
        "id": "aRdYKOKc1bXs"
      },
      "source": [
        "# 1枚画像生成\n",
        "model.generate_randomly()"
      ],
      "execution_count": null,
      "outputs": []
    },
    {
      "cell_type": "code",
      "metadata": {
        "id": "ZTfbFFmM1qe8"
      },
      "source": [
        "# 3×3で画像生成\n",
        "model.generate_grid()"
      ],
      "execution_count": null,
      "outputs": []
    },
    {
      "cell_type": "code",
      "metadata": {
        "id": "8ONDXfSo17EZ"
      },
      "source": [
        "# sizeで指定した枚数を画像生成しトランジション\n",
        "model.generate_animation(size=5, steps = 20)"
      ],
      "execution_count": null,
      "outputs": []
    }
  ]
}
